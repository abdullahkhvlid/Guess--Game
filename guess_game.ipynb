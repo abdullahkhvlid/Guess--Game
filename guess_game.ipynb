{
  "nbformat": 4,
  "nbformat_minor": 0,
  "metadata": {
    "colab": {
      "provenance": []
    },
    "kernelspec": {
      "name": "python3",
      "display_name": "Python 3"
    },
    "language_info": {
      "name": "python"
    }
  },
  "cells": [
    {
      "cell_type": "code",
      "execution_count": 3,
      "metadata": {
        "colab": {
          "base_uri": "https://localhost:8080/"
        },
        "id": "FzRtx8_MyRv4",
        "outputId": "72958023-0791-4a56-89d9-0ba1aa4daff2"
      },
      "outputs": [
        {
          "output_type": "stream",
          "name": "stdout",
          "text": [
            "Im thinking of a number between 1-10. Crack it in 3 tries (clue: it's greater than 5): 6\n",
            "congratualtions, youre right\n"
          ]
        }
      ],
      "source": [
        "tries = 3\n",
        "gn = 6\n",
        "\n",
        "while tries>0:\n",
        "    user = int(input(f\"Im thinking of a number between 1-10. Crack it in {tries} tries (clue: it's greater than 5): \"))\n",
        "    tries = tries -1\n",
        "\n",
        "    if gn == user:\n",
        "        print(\"congratualtions, youre right\")\n",
        "        break\n",
        "    elif (user>gn) or (user<gn):\n",
        "        print(f\"try again, you have {tries} left\")\n",
        "\n",
        "    if tries == 0:\n",
        "        print(f\"u failed the number was {gn}\")\n",
        "        break"
      ]
    }
  ]
}